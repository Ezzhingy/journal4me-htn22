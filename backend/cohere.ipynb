{
 "cells": [
  {
   "cell_type": "code",
   "execution_count": 55,
   "metadata": {},
   "outputs": [],
   "source": [
    "# getting dependencies\n",
    "import cohere\n",
    "import cohere.classify as co_classify\n",
    "import dotenv\n",
    "import os\n",
    "import numpy as np"
   ]
  },
  {
   "cell_type": "code",
   "execution_count": 56,
   "metadata": {},
   "outputs": [],
   "source": [
    "# happiness vector\n",
    "day_decoding = ['happy', 'sad']"
   ]
  },
  {
   "cell_type": "code",
   "execution_count": 57,
   "metadata": {},
   "outputs": [],
   "source": [
    "# setting up client from env file\n",
    "dotenv.load_dotenv()\n",
    "co_client = cohere.Client(f'{os.getenv(\"COHERE_KEY\")}')"
   ]
  },
  {
   "cell_type": "code",
   "execution_count": 74,
   "metadata": {},
   "outputs": [],
   "source": [
    "speech_text = \"My laptop missing in class today\"\n",
    "\n",
    "response = co_client.classify(\n",
    "    inputs = [f\"{speech_text}\"],\n",
    "    examples = [\n",
    "        co_classify.Example('My friend made me smile today', 'happy'),\n",
    "        co_classify.Example('My family took me out today', 'happy'),\n",
    "        co_classify.Example('Today my cats gave me a lick', 'happy'), \n",
    "        co_classify.Example('I went to the park, but it was rainy and stormy', 'sad'),\n",
    "        co_classify.Example('At school, I won an award', 'happy'),\n",
    "        co_classify.Example('Today, some bullying happened at my school. I feel bad for that student', 'sad'),\n",
    "        co_classify.Example('I worked hard today, but it was all worth it', 'happy'),\n",
    "        co_classify.Example('I worked too hard today, work was really rough', 'sad'),\n",
    "        co_classify.Example('I was not able to win an award today, but my friend won something', 'happy'),\n",
    "        co_classify.Example(\"A crime happened at my neighbor's home\", 'sad'),\n",
    "        co_classify.Example('I saw a cat on the street, I wish I could have brought it home', 'sad'),\n",
    "        co_classify.Example(\"I met one of my idols today!\", 'happy')\n",
    "    ]\n",
    ")"
   ]
  },
  {
   "cell_type": "code",
   "execution_count": 75,
   "metadata": {},
   "outputs": [],
   "source": [
    "# vector encoding of happy and sad\n",
    "response_labels = response.classifications[0].labels\n",
    "happiness_encoding = ([response_labels['happy'].confidence, response_labels['sad'].confidence])"
   ]
  },
  {
   "cell_type": "code",
   "execution_count": 77,
   "metadata": {},
   "outputs": [
    {
     "name": "stdout",
     "output_type": "stream",
     "text": [
      "speech: My laptop missing in class today\n",
      "rating: sad\n",
      "/n {'happy': cohere.LabelPrediction {\n",
      "\tconfidence: 0.060965765\n",
      "}, 'sad': cohere.LabelPrediction {\n",
      "\tconfidence: 0.9390342\n",
      "}}\n"
     ]
    }
   ],
   "source": [
    "# determining the state of your day\n",
    "print(\"speech:\", speech_text)\n",
    "print('rating:', day_decoding[np.argmax(happiness_encoding)])\n",
    "\n",
    "print('/n', response_labels)"
   ]
  }
 ],
 "metadata": {
  "kernelspec": {
   "display_name": "Python 3.9.7 64-bit",
   "language": "python",
   "name": "python3"
  },
  "language_info": {
   "codemirror_mode": {
    "name": "ipython",
    "version": 3
   },
   "file_extension": ".py",
   "mimetype": "text/x-python",
   "name": "python",
   "nbconvert_exporter": "python",
   "pygments_lexer": "ipython3",
   "version": "3.9.7"
  },
  "orig_nbformat": 4,
  "vscode": {
   "interpreter": {
    "hash": "11938c6bc6919ae2720b4d5011047913343b08a43b18698fd82dedb0d4417594"
   }
  }
 },
 "nbformat": 4,
 "nbformat_minor": 2
}
