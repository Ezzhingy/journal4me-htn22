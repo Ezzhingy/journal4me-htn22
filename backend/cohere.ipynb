{
 "cells": [
  {
   "cell_type": "code",
   "execution_count": 1,
   "metadata": {},
   "outputs": [],
   "source": [
    "# getting dependencies\n",
    "import cohere\n",
    "import cohere.classify as co_classify\n",
    "import dotenv\n",
    "import os\n",
    "import numpy as np\n",
    "import pandas as pd "
   ]
  },
  {
   "cell_type": "code",
   "execution_count": 2,
   "metadata": {},
   "outputs": [],
   "source": [
    "# happiness vector\n",
    "day_decoding = ['happy', 'sad']"
   ]
  },
  {
   "cell_type": "code",
   "execution_count": 3,
   "metadata": {},
   "outputs": [],
   "source": [
    "# setting up client from env file\n",
    "dotenv.load_dotenv()\n",
    "co_client = cohere.Client(f'{os.getenv(\"COHERE_KEY\")}')"
   ]
  },
  {
   "cell_type": "code",
   "execution_count": 4,
   "metadata": {},
   "outputs": [],
   "source": [
    "speech_text = \"My laptop missing in class today\"\n",
    "\n",
    "response = co_client.classify(\n",
    "    inputs = [f\"{speech_text}\"],\n",
    "    examples = [\n",
    "        co_classify.Example('My friend made me smile today', 'happy'),\n",
    "        co_classify.Example('My family took me out today', 'happy'),\n",
    "        co_classify.Example('Today my cats gave me a lick', 'happy'), \n",
    "        co_classify.Example('I went to the park, but it was rainy and stormy', 'sad'),\n",
    "        co_classify.Example('At school, I won an award', 'happy'),\n",
    "        co_classify.Example('Today, some bullying happened at my school. I feel bad for that student', 'sad'),\n",
    "        co_classify.Example('I worked hard today, but it was all worth it', 'happy'),\n",
    "        co_classify.Example('I worked too hard today, work was really rough', 'sad'),\n",
    "        co_classify.Example('I was not able to win an award today, but my friend won something', 'happy'),\n",
    "        co_classify.Example(\"A crime happened at my neighbor's home\", 'sad'),\n",
    "        co_classify.Example('I saw a cat on the street, I wish I could have brought it home', 'sad'),\n",
    "        co_classify.Example(\"I met one of my idols today!\", 'happy')\n",
    "    ]\n",
    ")"
   ]
  },
  {
   "cell_type": "code",
   "execution_count": 5,
   "metadata": {},
   "outputs": [],
   "source": [
    "# vector encoding of happy and sad\n",
    "response_labels = response.classifications[0].labels\n",
    "happiness_encoding = ([response_labels['happy'].confidence, response_labels['sad'].confidence])"
   ]
  },
  {
   "cell_type": "code",
   "execution_count": 6,
   "metadata": {},
   "outputs": [
    {
     "name": "stdout",
     "output_type": "stream",
     "text": [
      "speech: My laptop missing in class today\n",
      "rating: sad\n",
      "/n {'happy': cohere.LabelPrediction {\n",
      "\tconfidence: 0.06088021\n",
      "}, 'sad': cohere.LabelPrediction {\n",
      "\tconfidence: 0.9391198\n",
      "}}\n"
     ]
    }
   ],
   "source": [
    "# determining the state of your day\n",
    "print(\"speech:\", speech_text)\n",
    "print('rating:', day_decoding[np.argmax(happiness_encoding)])\n",
    "\n",
    "print('/n', response_labels)"
   ]
  },
  {
   "cell_type": "code",
   "execution_count": 9,
   "metadata": {},
   "outputs": [
    {
     "name": "stdout",
     "output_type": "stream",
     "text": [
      "\"At the park, there was a murderer at night and I almost was not able to escape with my life and as a result, I am traumatised\"\n",
      "In summary: \"The park is dangerous at night\"\n",
      "\n",
      "\"At the carnival, there was a variety of food to pick from and I was never happier\"\n",
      "In summary:\"Lot's of food makes me happy\"\n",
      "\n",
      "\"Powershell gave my computer a virus and now I have lost all functionality with it\"\n",
      "In summary:\"\n",
      "Candidate summaries for the sentence: \n",
      "\"Killer whales have a diverse diet, although individual populations often specialize in particular types of prey.\"\n"
     ]
    },
    {
     "data": {
      "text/html": [
       "<div>\n",
       "<style scoped>\n",
       "    .dataframe tbody tr th:only-of-type {\n",
       "        vertical-align: middle;\n",
       "    }\n",
       "\n",
       "    .dataframe tbody tr th {\n",
       "        vertical-align: top;\n",
       "    }\n",
       "\n",
       "    .dataframe thead th {\n",
       "        text-align: right;\n",
       "    }\n",
       "</style>\n",
       "<table border=\"1\" class=\"dataframe\">\n",
       "  <thead>\n",
       "    <tr style=\"text-align: right;\">\n",
       "      <th></th>\n",
       "      <th>generation</th>\n",
       "      <th>likelihood</th>\n",
       "    </tr>\n",
       "  </thead>\n",
       "  <tbody>\n",
       "    <tr>\n",
       "      <th>0</th>\n",
       "      <td>PowerShell is dangerous\"</td>\n",
       "      <td>-4.355015</td>\n",
       "    </tr>\n",
       "    <tr>\n",
       "      <th>1</th>\n",
       "      <td>My computer is broken\"</td>\n",
       "      <td>-4.791516</td>\n",
       "    </tr>\n",
       "    <tr>\n",
       "      <th>2</th>\n",
       "      <td>Powershell can be a virus and can destroy my computer\"</td>\n",
       "      <td>-18.813433</td>\n",
       "    </tr>\n",
       "  </tbody>\n",
       "</table>\n",
       "</div>"
      ],
      "text/plain": [
       "                                               generation  likelihood\n",
       "0                                PowerShell is dangerous\"   -4.355015\n",
       "1                                  My computer is broken\"   -4.791516\n",
       "2  Powershell can be a virus and can destroy my computer\"  -18.813433"
      ]
     },
     "execution_count": 9,
     "metadata": {},
     "output_type": "execute_result"
    }
   ],
   "source": [
    "prompt = '''\"At the park, there was a murderer at night and I almost was not able to escape with my life and as a result, I am traumatised\"\n",
    "In summary: \"The park is dangerous at night\"\n",
    "\n",
    "\"At the carnival, there was a variety of food to pick from and I was never happier\"\n",
    "In summary:\"Lot's of food makes me happy\"\n",
    "\n",
    "\"Powershell gave my computer a virus and now I have lost all functionality with it\"\n",
    "In summary:\"'''\n",
    "print(prompt)\n",
    "\n",
    "n_generations = 5\n",
    "\n",
    "prediction = co_client.generate(\n",
    "    model='large',\n",
    "    prompt=prompt,\n",
    "    return_likelihoods = 'GENERATION',\n",
    "    stop_sequences=['\"'],\n",
    "    max_tokens=50,\n",
    "    temperature=0.7,\n",
    "    num_generations=n_generations,\n",
    "    k=0,\n",
    "    p=0.75)\n",
    "\n",
    "\n",
    "# Get list of generations\n",
    "gens = []\n",
    "likelihoods = []\n",
    "for gen in prediction.generations:\n",
    "    gens.append(gen.text)\n",
    "\n",
    "    sum_likelihood = 0\n",
    "    for t in gen.token_likelihoods:\n",
    "        sum_likelihood += t.likelihood\n",
    "    # Get sum of likelihoods\n",
    "    likelihoods.append(sum_likelihood)\n",
    "\n",
    "pd.options.display.max_colwidth = 200\n",
    "# Create a dataframe for the generated sentences and their likelihood scores\n",
    "df = pd.DataFrame({'generation':gens, 'likelihood': likelihoods})\n",
    "# Drop duplicates\n",
    "df = df.drop_duplicates(subset=['generation'])\n",
    "# Sort by highest sum likelihood\n",
    "df = df.sort_values('likelihood', ascending=False, ignore_index=True)\n",
    "print('Candidate summaries for the sentence: \\n\"Killer whales have a diverse diet, although individual populations often specialize in particular types of prey.\"')\n",
    "df"
   ]
  }
 ],
 "metadata": {
  "kernelspec": {
   "display_name": "Python 3.9.5 64-bit",
   "language": "python",
   "name": "python3"
  },
  "language_info": {
   "codemirror_mode": {
    "name": "ipython",
    "version": 3
   },
   "file_extension": ".py",
   "mimetype": "text/x-python",
   "name": "python",
   "nbconvert_exporter": "python",
   "pygments_lexer": "ipython3",
   "version": "3.9.5"
  },
  "orig_nbformat": 4,
  "vscode": {
   "interpreter": {
    "hash": "058bbb4884dca741715548dc8689daaa712f0bb17b4c8a018873ab55db552143"
   }
  }
 },
 "nbformat": 4,
 "nbformat_minor": 2
}
