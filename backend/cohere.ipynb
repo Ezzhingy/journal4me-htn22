{
 "cells": [
  {
   "cell_type": "code",
   "execution_count": 83,
   "metadata": {},
   "outputs": [],
   "source": [
    "# getting dependencies\n",
    "import cohere\n",
    "import cohere.classify as co_classify\n",
    "import dotenv\n",
    "import os\n",
    "import numpy as np\n",
    "import pandas as pd "
   ]
  },
  {
   "cell_type": "code",
   "execution_count": 56,
   "metadata": {},
   "outputs": [],
   "source": [
    "# happiness vector\n",
    "day_decoding = ['happy', 'sad']"
   ]
  },
  {
   "cell_type": "code",
   "execution_count": 57,
   "metadata": {},
   "outputs": [],
   "source": [
    "# setting up client from env file\n",
    "dotenv.load_dotenv()\n",
    "co_client = cohere.Client(f'{os.getenv(\"COHERE_KEY\")}')"
   ]
  },
  {
   "cell_type": "code",
   "execution_count": 74,
   "metadata": {},
   "outputs": [],
   "source": [
    "speech_text = \"My laptop missing in class today\"\n",
    "\n",
    "response = co_client.classify(\n",
    "    inputs = [f\"{speech_text}\"],\n",
    "    examples = [\n",
    "        co_classify.Example('My friend made me smile today', 'happy'),\n",
    "        co_classify.Example('My family took me out today', 'happy'),\n",
    "        co_classify.Example('Today my cats gave me a lick', 'happy'), \n",
    "        co_classify.Example('I went to the park, but it was rainy and stormy', 'sad'),\n",
    "        co_classify.Example('At school, I won an award', 'happy'),\n",
    "        co_classify.Example('Today, some bullying happened at my school. I feel bad for that student', 'sad'),\n",
    "        co_classify.Example('I worked hard today, but it was all worth it', 'happy'),\n",
    "        co_classify.Example('I worked too hard today, work was really rough', 'sad'),\n",
    "        co_classify.Example('I was not able to win an award today, but my friend won something', 'happy'),\n",
    "        co_classify.Example(\"A crime happened at my neighbor's home\", 'sad'),\n",
    "        co_classify.Example('I saw a cat on the street, I wish I could have brought it home', 'sad'),\n",
    "        co_classify.Example(\"I met one of my idols today!\", 'happy')\n",
    "    ]\n",
    ")"
   ]
  },
  {
   "cell_type": "code",
   "execution_count": 75,
   "metadata": {},
   "outputs": [],
   "source": [
    "# vector encoding of happy and sad\n",
    "response_labels = response.classifications[0].labels\n",
    "happiness_encoding = ([response_labels['happy'].confidence, response_labels['sad'].confidence])"
   ]
  },
  {
   "cell_type": "code",
   "execution_count": 77,
   "metadata": {},
   "outputs": [
    {
     "name": "stdout",
     "output_type": "stream",
     "text": [
      "speech: My laptop missing in class today\n",
      "rating: sad\n",
      "/n {'happy': cohere.LabelPrediction {\n",
      "\tconfidence: 0.060965765\n",
      "}, 'sad': cohere.LabelPrediction {\n",
      "\tconfidence: 0.9390342\n",
      "}}\n"
     ]
    }
   ],
   "source": [
    "# determining the state of your day\n",
    "print(\"speech:\", speech_text)\n",
    "print('rating:', day_decoding[np.argmax(happiness_encoding)])\n",
    "\n",
    "print('/n', response_labels)"
   ]
  },
  {
   "cell_type": "code",
   "execution_count": 93,
   "metadata": {},
   "outputs": [
    {
     "name": "stdout",
     "output_type": "stream",
     "text": [
      "Candidate summaries for the sentence: \n",
      "\"Killer whales have a diverse diet, although individual populations often specialize in particular types of prey.\"\n"
     ]
    },
    {
     "data": {
      "text/html": [
       "<div>\n",
       "<style scoped>\n",
       "    .dataframe tbody tr th:only-of-type {\n",
       "        vertical-align: middle;\n",
       "    }\n",
       "\n",
       "    .dataframe tbody tr th {\n",
       "        vertical-align: top;\n",
       "    }\n",
       "\n",
       "    .dataframe thead th {\n",
       "        text-align: right;\n",
       "    }\n",
       "</style>\n",
       "<table border=\"1\" class=\"dataframe\">\n",
       "  <thead>\n",
       "    <tr style=\"text-align: right;\">\n",
       "      <th></th>\n",
       "      <th>generation</th>\n",
       "      <th>likelihood</th>\n",
       "    </tr>\n",
       "  </thead>\n",
       "  <tbody>\n",
       "    <tr>\n",
       "      <th>0</th>\n",
       "      <td>.\\nIts name is derived from the Latin word orca, meaning \"</td>\n",
       "      <td>-15.194356</td>\n",
       "    </tr>\n",
       "    <tr>\n",
       "      <th>1</th>\n",
       "      <td>. Killer whales live in all the world’s oceans, and feed almost exclusively on fish.\\nThe average killer whale is 2.5 metres (8 ft) long, and weighs up to 2,000 kilograms (4,400 lb).</td>\n",
       "      <td>-46.843821</td>\n",
       "    </tr>\n",
       "    <tr>\n",
       "      <th>2</th>\n",
       "      <td>. Killer whales are found worldwide in all oceans. They are especially abundant in the coastal waters of the Pacific Ocean. They are also found in coastal waters of the Atlantic Ocean in Canada, G...</td>\n",
       "      <td>-58.335164</td>\n",
       "    </tr>\n",
       "    <tr>\n",
       "      <th>3</th>\n",
       "      <td>. It is also one of the most powerful predators in the ocean. Killer whales are highly social, with stable, monogamous pairs that raise their calves in the company of the rest of the pod. Females ...</td>\n",
       "      <td>-67.934894</td>\n",
       "    </tr>\n",
       "    <tr>\n",
       "      <th>4</th>\n",
       "      <td>. Killer whales are known to have a highly complex culture, with vocal dialects and specialised hunting techniques. The killer whale is among the few animal species that have been found to form lo...</td>\n",
       "      <td>-71.907593</td>\n",
       "    </tr>\n",
       "  </tbody>\n",
       "</table>\n",
       "</div>"
      ],
      "text/plain": [
       "                                                                                                                                                                                                generation  \\\n",
       "0                                                                                                                                               .\\nIts name is derived from the Latin word orca, meaning \"   \n",
       "1                   . Killer whales live in all the world’s oceans, and feed almost exclusively on fish.\\nThe average killer whale is 2.5 metres (8 ft) long, and weighs up to 2,000 kilograms (4,400 lb).   \n",
       "2  . Killer whales are found worldwide in all oceans. They are especially abundant in the coastal waters of the Pacific Ocean. They are also found in coastal waters of the Atlantic Ocean in Canada, G...   \n",
       "3  . It is also one of the most powerful predators in the ocean. Killer whales are highly social, with stable, monogamous pairs that raise their calves in the company of the rest of the pod. Females ...   \n",
       "4  . Killer whales are known to have a highly complex culture, with vocal dialects and specialised hunting techniques. The killer whale is among the few animal species that have been found to form lo...   \n",
       "\n",
       "   likelihood  \n",
       "0  -15.194356  \n",
       "1  -46.843821  \n",
       "2  -58.335164  \n",
       "3  -67.934894  \n",
       "4  -71.907593  "
      ]
     },
     "execution_count": 93,
     "metadata": {},
     "output_type": "execute_result"
    }
   ],
   "source": [
    "prompt = '''\"The killer whale or orca (Orcinus orca) is a toothed whale\n",
    "belonging to the oceanic dolphin family, of which it is the largest member\"\n",
    "In summary: \"The killer whale or orca is the largest type of dolphin\"\n",
    "\n",
    "\"It is recognizable by its black-and-white patterned body\"\n",
    "In summary:\"Its body has a black and white pattern\"\n",
    "\n",
    "\"Killer whales have a diverse diet, although individual populations often specialize in particular types of prey\"\n",
    "In summary:\"'''\n",
    "print(prompt)\n",
    "\n",
    "n_generations = 5\n",
    "\n",
    "prediction = co_client.generate(\n",
    "    model='large',\n",
    "    prompt=prompt,\n",
    "    return_likelihoods = 'GENERATION',\n",
    "    stop_sequences=['\"'],\n",
    "    max_tokens=50,\n",
    "    temperature=0.7,\n",
    "    num_generations=n_generations,\n",
    "    k=0,\n",
    "    p=0.75)\n",
    "\n",
    "\n",
    "# Get list of generations\n",
    "gens = []\n",
    "likelihoods = []\n",
    "for gen in prediction.generations:\n",
    "    gens.append(gen.text)\n",
    "\n",
    "    sum_likelihood = 0\n",
    "    for t in gen.token_likelihoods:\n",
    "        sum_likelihood += t.likelihood\n",
    "    # Get sum of likelihoods\n",
    "    likelihoods.append(sum_likelihood)\n",
    "\n",
    "pd.options.display.max_colwidth = 200\n",
    "# Create a dataframe for the generated sentences and their likelihood scores\n",
    "df = pd.DataFrame({'generation':gens, 'likelihood': likelihoods})\n",
    "# Drop duplicates\n",
    "df = df.drop_duplicates(subset=['generation'])\n",
    "# Sort by highest sum likelihood\n",
    "df = df.sort_values('likelihood', ascending=False, ignore_index=True)\n",
    "print('Candidate summaries for the sentence: \\n\"Killer whales have a diverse diet, although individual populations often specialize in particular types of prey.\"')\n",
    "df"
   ]
  }
 ],
 "metadata": {
  "kernelspec": {
   "display_name": "Python 3.9.7 64-bit",
   "language": "python",
   "name": "python3"
  },
  "language_info": {
   "codemirror_mode": {
    "name": "ipython",
    "version": 3
   },
   "file_extension": ".py",
   "mimetype": "text/x-python",
   "name": "python",
   "nbconvert_exporter": "python",
   "pygments_lexer": "ipython3",
   "version": "3.9.7"
  },
  "orig_nbformat": 4,
  "vscode": {
   "interpreter": {
    "hash": "11938c6bc6919ae2720b4d5011047913343b08a43b18698fd82dedb0d4417594"
   }
  }
 },
 "nbformat": 4,
 "nbformat_minor": 2
}
